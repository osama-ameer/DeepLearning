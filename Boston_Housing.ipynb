{
 "cells": [
  {
   "cell_type": "code",
   "execution_count": 5,
   "metadata": {},
   "outputs": [],
   "source": [
    "import tensorflow as tf"
   ]
  },
  {
   "cell_type": "code",
   "execution_count": 6,
   "metadata": {},
   "outputs": [
    {
     "name": "stdout",
     "output_type": "stream",
     "text": [
      "2.0.0\n"
     ]
    }
   ],
   "source": [
    "print(tf.__version__)"
   ]
  },
  {
   "cell_type": "code",
   "execution_count": 7,
   "metadata": {},
   "outputs": [],
   "source": [
    "from tensorflow.keras.datasets import boston_housing\n",
    "from tensorflow.keras import optimizers,layers,models,utils\n",
    "import numpy as np\n",
    "import matplotlib.pyplot as plt\n"
   ]
  },
  {
   "cell_type": "code",
   "execution_count": 9,
   "metadata": {},
   "outputs": [],
   "source": [
    "(train_data,train_targets),(test_data,test_targets)=boston_housing.load_data()"
   ]
  },
  {
   "cell_type": "code",
   "execution_count": 10,
   "metadata": {},
   "outputs": [
    {
     "data": {
      "text/plain": [
       "(404, 13)"
      ]
     },
     "execution_count": 10,
     "metadata": {},
     "output_type": "execute_result"
    }
   ],
   "source": [
    "train_data.shape\n"
   ]
  },
  {
   "cell_type": "code",
   "execution_count": 11,
   "metadata": {},
   "outputs": [
    {
     "data": {
      "text/plain": [
       "(102, 13)"
      ]
     },
     "execution_count": 11,
     "metadata": {},
     "output_type": "execute_result"
    }
   ],
   "source": [
    "test_data.shape"
   ]
  },
  {
   "cell_type": "code",
   "execution_count": 12,
   "metadata": {},
   "outputs": [
    {
     "data": {
      "text/plain": [
       "array([  1.23247,   0.     ,   8.14   ,   0.     ,   0.538  ,   6.142  ,\n",
       "        91.7    ,   3.9769 ,   4.     , 307.     ,  21.     , 396.9    ,\n",
       "        18.72   ])"
      ]
     },
     "execution_count": 12,
     "metadata": {},
     "output_type": "execute_result"
    }
   ],
   "source": [
    "train_data[0]"
   ]
  },
  {
   "cell_type": "code",
   "execution_count": 13,
   "metadata": {},
   "outputs": [
    {
     "data": {
      "text/plain": [
       "15.2"
      ]
     },
     "execution_count": 13,
     "metadata": {},
     "output_type": "execute_result"
    }
   ],
   "source": [
    "train_targets[0]"
   ]
  },
  {
   "cell_type": "code",
   "execution_count": 14,
   "metadata": {},
   "outputs": [],
   "source": [
    "#Normalization\n",
    "mean=train_data.mean (axis = 0)\n",
    "std=train_data.std (axis = 0)\n",
    "train_data -= mean\n",
    "train_data /= std\n",
    "test_data -= mean\n",
    "test_data /= std"
   ]
  },
  {
   "cell_type": "code",
   "execution_count": 15,
   "metadata": {},
   "outputs": [
    {
     "data": {
      "text/plain": [
       "array([-0.27224633, -0.48361547, -0.43576161, -0.25683275, -0.1652266 ,\n",
       "       -0.1764426 ,  0.81306188,  0.1166983 , -0.62624905, -0.59517003,\n",
       "        1.14850044,  0.44807713,  0.8252202 ])"
      ]
     },
     "execution_count": 15,
     "metadata": {},
     "output_type": "execute_result"
    }
   ],
   "source": [
    "train_data[0]"
   ]
  },
  {
   "cell_type": "code",
   "execution_count": 16,
   "metadata": {},
   "outputs": [],
   "source": [
    "#making function because of k fold iteration\n",
    "def build_model():\n",
    "    model=models.Sequential()\n",
    "    model.add(layers.Dense(64, activation='relu', input_shape=(train_data.shape[1], )))\n",
    "    model.add(layers.Dense(64, activation='relu'))\n",
    "    model.add(layers.Dense(1))\n",
    "    model.compile(optimizer='rmsprop', loss='mse', metrics=['mae'])\n",
    "    return model"
   ]
  },
  {
   "cell_type": "code",
   "execution_count": 20,
   "metadata": {},
   "outputs": [
    {
     "name": "stdout",
     "output_type": "stream",
     "text": [
      "processing fold: # 0\n",
      "processing fold: # 1\n",
      "processing fold: # 2\n",
      "processing fold: # 3\n"
     ]
    }
   ],
   "source": [
    "#K-Fold\n",
    "k=4\n",
    "num_val_samples=len(train_data) // k\n",
    "num_of_epochs=100\n",
    "all_scores=[]\n",
    "all_mae_histories=[]\n",
    "for i in range(k):\n",
    "    print(\"processing fold: #\",i)\n",
    "    val_data=train_data[i*num_val_samples: (i+1) * num_val_samples]\n",
    "    val_targets=train_targets[i*num_val_samples: (i+1) * num_val_samples]\n",
    "    partial_train_data=np.concatenate([train_data[:i * num_val_samples],train_data[(i + 1) * num_val_samples:]],axis=0)\n",
    "    partial_train_targets = np.concatenate([train_targets[:i * num_val_samples],train_targets[(i + 1) * num_val_samples:]],axis=0)\n",
    "    model=build_model()\n",
    "    history=model.fit(partial_train_data, partial_train_targets, epochs=num_of_epochs, batch_size=1, verbose=0)\n",
    "    val_mse,val_mae=model.evaluate(val_data, val_targets, verbose=0)\n",
    "    all_scores.append(val_mse)\n",
    "    mae_history=history.history['mae']\n",
    "    all_mae_histories.append(mae_history)\n",
    "    "
   ]
  },
  {
   "cell_type": "code",
   "execution_count": 34,
   "metadata": {},
   "outputs": [
    {
     "name": "stdout",
     "output_type": "stream",
     "text": [
      "all folds validations error:  [8.810385368838169, 11.722214354146825, 15.242638030854783, 13.087030101530623]\n",
      "mean of all validations error:  12.2155669638426\n",
      "average_mae_history:  [10.650639, 3.8057408, 3.1177144, 2.8093657, 2.6284225, 2.512351, 2.4052165, 2.3558903, 2.3225696, 2.2383256, 2.2147367, 2.16556, 2.1565132, 2.1070943, 2.0952399, 2.0628986, 2.0336423, 2.0352378, 1.99984, 1.9455115, 1.9684411, 1.9576241, 1.9251072, 1.8933394, 1.8851237, 1.8752413, 1.870333, 1.8246751, 1.8212214, 1.8450086, 1.8203659, 1.7752689, 1.7893193, 1.7736003, 1.7494826, 1.751334, 1.7316276, 1.725066, 1.7000573, 1.6999065, 1.6723127, 1.6665869, 1.6925852, 1.668604, 1.6566125, 1.6392179, 1.6416724, 1.6296645, 1.6102616, 1.5925117, 1.6361737, 1.5989833, 1.5979987, 1.5827239, 1.5500467, 1.5608712, 1.5420697, 1.5373024, 1.5344837, 1.5051103, 1.533014, 1.4713287, 1.5099758, 1.4749117, 1.4967234, 1.4733219, 1.4633391, 1.4578798, 1.4644225, 1.4621112, 1.4638029, 1.4385476, 1.4284617, 1.4235321, 1.4376771, 1.4049925, 1.3990227, 1.4272444, 1.4149526, 1.3740944, 1.3840315, 1.3619895, 1.3500917, 1.4065624, 1.3548695, 1.3684297, 1.3725026, 1.3686988, 1.3184409, 1.3595619, 1.3307723, 1.3134482, 1.3245541, 1.3279972, 1.3292425, 1.2970436, 1.2907774, 1.3072317, 1.2811146, 1.2899532]\n"
     ]
    }
   ],
   "source": [
    "#Error\n",
    "average_mae_history=[np.mean([x[i] for x in all_mae_histories]) for i in range(num_of_epochs)]\n",
    "\n",
    "print(\"all folds validations error: \", all_scores)\n",
    "print(\"mean of all validations error: \", np.mean(all_scores))\n",
    "print(\"average_mae_history: \", average_mae_history)"
   ]
  },
  {
   "cell_type": "code",
   "execution_count": 35,
   "metadata": {},
   "outputs": [
    {
     "data": {
      "text/plain": [
       "[100, 100, 100, 100]"
      ]
     },
     "execution_count": 35,
     "metadata": {},
     "output_type": "execute_result"
    }
   ],
   "source": [
    "[len(x) for x in all_mae_histories]"
   ]
  },
  {
   "cell_type": "code",
   "execution_count": 36,
   "metadata": {},
   "outputs": [
    {
     "data": {
      "image/png": "[encoded data removed]",
      "text/plain": [
       "<Figure size 432x288 with 1 Axes>"
      ]
     },
     "metadata": {
      "needs_background": "light"
     },
     "output_type": "display_data"
    }
   ],
   "source": [
    "#Plotting Error\n",
    "plt.plot(range (1, len(average_mae_history)+1 ), average_mae_history)\n",
    "plt.xlabel(\"epochs\")\n",
    "plt.ylabel('validation mae')\n",
    "plt.show()"
   ]
  },
  {
   "cell_type": "code",
   "execution_count": 42,
   "metadata": {},
   "outputs": [
    {
     "data": {
      "image/png": "[encoded data removed]",
      "text/plain": [
       "<Figure size 432x288 with 1 Axes>"
      ]
     },
     "metadata": {
      "needs_background": "light"
     },
     "output_type": "display_data"
    }
   ],
   "source": [
    "def smooth_curve(points, factor=0.9):\n",
    "    smoothed_points=[]\n",
    "    for point in points:\n",
    "        if smoothed_points:\n",
    "            previous=smoothed_points[-1]\n",
    "            smoothed_points.append(previous * factor+point*(1-factor))\n",
    "        else:\n",
    "            smoothed_points.append(point)\n",
    "    return smoothed_points\n",
    "smooth_mae_history=smooth_curve(average_mae_history[10:])\n",
    "plt.plot(range(1, len(smooth_mae_history)+1), smooth_mae_history)\n",
    "plt.xlabel('epochs')\n",
    "plt.ylabel(\"validation mae\")\n",
    "plt.show()\n"
   ]
  },
  {
   "cell_type": "code",
   "execution_count": 43,
   "metadata": {},
   "outputs": [
    {
     "name": "stdout",
     "output_type": "stream",
     "text": [
      "102/1 [====================================================================================================================================================================================================================================================================================================================================================================================================================================================================================================================================================================================================================================================================================================================================================================================================================================================================================================================================================================================================================================================================================================================================================================================================================================================================================================================================================================================================================================================================================================================================================================================================================================================================================================================================================================================================================================================================================================================================================================================================================================================================================================================================================================================================================================================================================================================================================================================================================================================================================================================================================================================================================================================================================================================================================================================================================================================================================================================================================================================================================================================================================================================================================================================] - 0s 2ms/sample - loss: 54.4938 - mae: 2.8297\n",
      "2.82974\n"
     ]
    }
   ],
   "source": [
    "model=build_model()\n",
    "model.fit(train_data, train_targets, epochs=80, batch_size=16, verbose=0)\n",
    "test_mse_score,test_mae_score=model.evaluate(test_data, test_targets)\n",
    "print(test_mae_score)"
   ]
  },
  {
   "cell_type": "code",
   "execution_count": null,
   "metadata": {},
   "outputs": [],
   "source": []
  }
 ],
 "metadata": {
  "kernelspec": {
   "display_name": "Python 3",
   "language": "python",
   "name": "python3"
  },
  "language_info": {
   "codemirror_mode": {
    "name": "ipython",
    "version": 3
   },
   "file_extension": ".py",
   "mimetype": "text/x-python",
   "name": "python",
   "nbconvert_exporter": "python",
   "pygments_lexer": "ipython3",
   "version": "3.7.3"
  }
 },
 "nbformat": 4,
 "nbformat_minor": 2
}
